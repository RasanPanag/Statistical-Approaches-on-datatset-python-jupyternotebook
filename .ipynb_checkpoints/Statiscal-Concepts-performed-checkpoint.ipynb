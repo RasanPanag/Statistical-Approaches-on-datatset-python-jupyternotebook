{
 "cells": [
  {
   "cell_type": "markdown",
   "metadata": {},
   "source": [
    "# Creator Name: Rasandeep Singh Panag\n"
   ]
  },
  {
   "cell_type": "code",
   "execution_count": 4,
   "metadata": {},
   "outputs": [
    {
     "name": "stdout",
     "output_type": "stream",
     "text": [
      "the link from where I have taken this data is https://www.figure-eight.com/data-for-everyone/\n"
     ]
    }
   ],
   "source": [
    "import pandas as pd\n",
    "import numpy as np\n",
    "import matplotlib as mpl\n",
    "import matplotlib.pyplot as plt\n",
    "import statsmodels.api as sm\n",
    "import statsmodels.formula.api as smf\n",
    "\n",
    "\n",
    "from sklearn.preprocessing import scale\n",
    "from sklearn.linear_model import LinearRegression\n",
    "from sklearn.metrics import mean_squared_error, r2_score\n",
    "from sklearn.discriminant_analysis import LinearDiscriminantAnalysis\n",
    "from sklearn.neighbors import KNeighborsClassifier\n",
    "from sklearn.metrics import confusion_matrix, accuracy_score\n",
    "from sklearn.linear_model import LogisticRegression\n",
    "from sklearn.metrics import confusion_matrix, accuracy_score, precision_recall_fscore_support, roc_auc_score\n",
    "from sklearn.preprocessing import LabelEncoder\n",
    "from sklearn.linear_model import LinearRegression, Lasso\n",
    "from sklearn.feature_selection import SelectKBest, SelectPercentile, f_regression\n",
    "from sklearn.model_selection import KFold\n",
    "from sklearn.metrics import mean_squared_error\n",
    "from sklearn.metrics import mean_squared_error\n",
    "from sklearn.linear_model import LinearRegression\n",
    "from patsy import dmatrix\n",
    "print(\"the link from where I have taken this data is https://www.figure-eight.com/data-for-everyone/\")\n"
   ]
  },
  {
   "cell_type": "markdown",
   "metadata": {},
   "source": [
    "# Description\n",
    "This dataset is a collection of English sentence pairs. The crowd was asked about the truth value of the second sentence if the first sentence were true and to what extent the sentences are related on a scale of 1 to 5. The variance of this score over the crowd’s judgments is included as well."
   ]
  },
  {
   "cell_type": "markdown",
   "metadata": {},
   "source": [
    "This File I got from the previous link that I had given in the code. So, in this dataset I will make first 70% of my data as my training data, and the remaining data will be my Test data"
   ]
  },
  {
   "cell_type": "markdown",
   "metadata": {},
   "source": [
    "This data set has 10 features and one outcome as you can see below. \n",
    "Also this data set has 555 outcomes that we have to deal with"
   ]
  },
  {
   "cell_type": "code",
   "execution_count": 3,
   "metadata": {
    "scrolled": true
   },
   "outputs": [
    {
     "data": {
      "text/html": [
       "<div>\n",
       "<style scoped>\n",
       "    .dataframe tbody tr th:only-of-type {\n",
       "        vertical-align: middle;\n",
       "    }\n",
       "\n",
       "    .dataframe tbody tr th {\n",
       "        vertical-align: top;\n",
       "    }\n",
       "\n",
       "    .dataframe thead th {\n",
       "        text-align: right;\n",
       "    }\n",
       "</style>\n",
       "<table border=\"1\" class=\"dataframe\">\n",
       "  <thead>\n",
       "    <tr style=\"text-align: right;\">\n",
       "      <th></th>\n",
       "      <th>sentenceA</th>\n",
       "      <th>sentenceB</th>\n",
       "      <th>if_sentence_a_is_true_then</th>\n",
       "      <th>to_what_extent_are_the_two_sentences_expressing_a_related_meaning</th>\n",
       "      <th>to_what_extent__are_the_two_sentences_expressing_a_related_meaning_variance</th>\n",
       "      <th>Dummy variable for \"Sentence B is true\"</th>\n",
       "      <th>Dummy variable for \"Sentence B is false\"</th>\n",
       "      <th>Number of words in sentence A</th>\n",
       "      <th>Number of words in Sentence B</th>\n",
       "      <th>reshape_the_column_D</th>\n",
       "      <th>reshape_the_column_E</th>\n",
       "    </tr>\n",
       "  </thead>\n",
       "  <tbody>\n",
       "    <tr>\n",
       "      <th>0</th>\n",
       "      <td>A girl is riding a horse</td>\n",
       "      <td>A girl is riding a brown horse</td>\n",
       "      <td>Sentence B cannot be said to be true or false</td>\n",
       "      <td>4.40</td>\n",
       "      <td>0.490</td>\n",
       "      <td>0</td>\n",
       "      <td>0</td>\n",
       "      <td>6</td>\n",
       "      <td>7</td>\n",
       "      <td>1</td>\n",
       "      <td>0</td>\n",
       "    </tr>\n",
       "    <tr>\n",
       "      <th>1</th>\n",
       "      <td>A man is riding a skateboard in a park</td>\n",
       "      <td>A man is riding a skateboard</td>\n",
       "      <td>Sentence B is true</td>\n",
       "      <td>4.77</td>\n",
       "      <td>0.421</td>\n",
       "      <td>1</td>\n",
       "      <td>0</td>\n",
       "      <td>9</td>\n",
       "      <td>6</td>\n",
       "      <td>1</td>\n",
       "      <td>0</td>\n",
       "    </tr>\n",
       "    <tr>\n",
       "      <th>2</th>\n",
       "      <td>A woman is eating and drinking with other women</td>\n",
       "      <td>Some women are eating and drinking</td>\n",
       "      <td>Sentence B is true</td>\n",
       "      <td>4.92</td>\n",
       "      <td>0.266</td>\n",
       "      <td>1</td>\n",
       "      <td>0</td>\n",
       "      <td>9</td>\n",
       "      <td>6</td>\n",
       "      <td>1</td>\n",
       "      <td>0</td>\n",
       "    </tr>\n",
       "    <tr>\n",
       "      <th>3</th>\n",
       "      <td>A person is playing a drum</td>\n",
       "      <td>A red car is on the shirt of a man</td>\n",
       "      <td>Sentence B cannot be said to be true or false</td>\n",
       "      <td>1.00</td>\n",
       "      <td>0.000</td>\n",
       "      <td>0</td>\n",
       "      <td>0</td>\n",
       "      <td>6</td>\n",
       "      <td>10</td>\n",
       "      <td>0</td>\n",
       "      <td>0</td>\n",
       "    </tr>\n",
       "    <tr>\n",
       "      <th>4</th>\n",
       "      <td>A cat is resting on a chair</td>\n",
       "      <td>An onion is being cut by a man</td>\n",
       "      <td>Sentence B cannot be said to be true or false</td>\n",
       "      <td>1.00</td>\n",
       "      <td>0.000</td>\n",
       "      <td>0</td>\n",
       "      <td>0</td>\n",
       "      <td>7</td>\n",
       "      <td>8</td>\n",
       "      <td>0</td>\n",
       "      <td>0</td>\n",
       "    </tr>\n",
       "  </tbody>\n",
       "</table>\n",
       "</div>"
      ],
      "text/plain": [
       "                                         sentenceA  \\\n",
       "0                         A girl is riding a horse   \n",
       "1           A man is riding a skateboard in a park   \n",
       "2  A woman is eating and drinking with other women   \n",
       "3                       A person is playing a drum   \n",
       "4                      A cat is resting on a chair   \n",
       "\n",
       "                            sentenceB  \\\n",
       "0      A girl is riding a brown horse   \n",
       "1        A man is riding a skateboard   \n",
       "2  Some women are eating and drinking   \n",
       "3  A red car is on the shirt of a man   \n",
       "4      An onion is being cut by a man   \n",
       "\n",
       "                      if_sentence_a_is_true_then  \\\n",
       "0  Sentence B cannot be said to be true or false   \n",
       "1                             Sentence B is true   \n",
       "2                             Sentence B is true   \n",
       "3  Sentence B cannot be said to be true or false   \n",
       "4  Sentence B cannot be said to be true or false   \n",
       "\n",
       "   to_what_extent_are_the_two_sentences_expressing_a_related_meaning  \\\n",
       "0                                               4.40                   \n",
       "1                                               4.77                   \n",
       "2                                               4.92                   \n",
       "3                                               1.00                   \n",
       "4                                               1.00                   \n",
       "\n",
       "   to_what_extent__are_the_two_sentences_expressing_a_related_meaning_variance  \\\n",
       "0                                              0.490                             \n",
       "1                                              0.421                             \n",
       "2                                              0.266                             \n",
       "3                                              0.000                             \n",
       "4                                              0.000                             \n",
       "\n",
       "   Dummy variable for \"Sentence B is true\"  \\\n",
       "0                                        0   \n",
       "1                                        1   \n",
       "2                                        1   \n",
       "3                                        0   \n",
       "4                                        0   \n",
       "\n",
       "   Dummy variable for \"Sentence B is false\"  Number of words in sentence A  \\\n",
       "0                                         0                              6   \n",
       "1                                         0                              9   \n",
       "2                                         0                              9   \n",
       "3                                         0                              6   \n",
       "4                                         0                              7   \n",
       "\n",
       "   Number of words in Sentence B  reshape_the_column_D  reshape_the_column_E  \n",
       "0                              7                     1                     0  \n",
       "1                              6                     1                     0  \n",
       "2                              6                     1                     0  \n",
       "3                             10                     0                     0  \n",
       "4                              8                     0                     0  "
      ]
     },
     "execution_count": 3,
     "metadata": {},
     "output_type": "execute_result"
    }
   ],
   "source": [
    "# modify the path to the CSV file as necessary\n",
    "rasan = pd.read_csv('file1.csv')\n",
    "rasan.head()\n"
   ]
  },
  {
   "cell_type": "markdown",
   "metadata": {},
   "source": [
    "## Simple Linear Regression\n",
    "I used simple linear regression by making 70 percent of the data as the training data and remaining data as the test data. \n",
    "In the section of features I added four features extra which were not present in the default file those are \"'Dummy variable for \"Sentence B is true\"','Dummy variable for \"Sentence B is false\"', 'Number of words in sentence A', 'Number of words in Sentence B'\""
   ]
  },
  {
   "cell_type": "markdown",
   "metadata": {},
   "source": [
    "The two features \"'Dummy variable for \"Sentence B is true\"','Dummy variable for \"Sentence B is false\"' I used because  the feature \"if_sentence_a_is_true_then\" is qualitative variable with three values if sentence B is true, false or otherwise"
   ]
  },
  {
   "cell_type": "markdown",
   "metadata": {},
   "source": [
    "As the feature \"sentenceA\" and \"sentence B\" are the lines so I just add two more features to make a use of it. Those two features are:\n",
    "#### 'Number of words in sentence A': counts the words in sentence A\n",
    "#### 'Number of words in Sentence B': counts the words in sentence B"
   ]
  },
  {
   "cell_type": "code",
   "execution_count": 5,
   "metadata": {},
   "outputs": [],
   "source": [
    "X = rasan[[ 'to_what_extent_are_the_two_sentences_expressing_a_related_meaning', 'Dummy variable for \"Sentence B is true\"','Dummy variable for \"Sentence B is false\"', 'Number of words in sentence A', 'Number of words in Sentence B']]\n",
    "\n",
    "y = rasan['to_what_extent__are_the_two_sentences_expressing_a_related_meaning_variance']"
   ]
  },
  {
   "cell_type": "code",
   "execution_count": 6,
   "metadata": {},
   "outputs": [],
   "source": [
    "\n",
    "# diving the set into training set and test set\n",
    "X_train = X[0:389]\n",
    "X_test = X[389:]\n",
    "\n",
    "y_train = y[0:389]\n",
    "y_test = y[389:]"
   ]
  },
  {
   "cell_type": "code",
   "execution_count": 7,
   "metadata": {},
   "outputs": [],
   "source": [
    "\n",
    "linmod2 = LinearRegression()\n",
    "\n",
    "linmod2.fit(X_train, y_train)\n",
    "\n",
    "preds = linmod2.predict(X_test)"
   ]
  },
  {
   "cell_type": "code",
   "execution_count": 8,
   "metadata": {},
   "outputs": [
    {
     "data": {
      "image/png": "[encoded data removed]",
      "text/plain": [
       "<matplotlib.figure.Figure at 0x1c1514e1d0>"
      ]
     },
     "metadata": {},
     "output_type": "display_data"
    }
   ],
   "source": [
    "plt.scatter(y_test, preds,color='g')\n",
    "plt.xlabel(\"Actual y Value\")\n",
    "plt.ylabel(\"Predicted y Value\")\n",
    "plt.show()"
   ]
  },
  {
   "cell_type": "markdown",
   "metadata": {},
   "source": [
    "## Mean Square Error"
   ]
  },
  {
   "cell_type": "code",
   "execution_count": 9,
   "metadata": {},
   "outputs": [
    {
     "name": "stdout",
     "output_type": "stream",
     "text": [
      "0.15654624874934572\n"
     ]
    }
   ],
   "source": [
    "mse = mean_squared_error(y_test, preds)\n",
    "print(mse)"
   ]
  },
  {
   "cell_type": "markdown",
   "metadata": {},
   "source": [
    "## R-square"
   ]
  },
  {
   "cell_type": "code",
   "execution_count": 10,
   "metadata": {},
   "outputs": [
    {
     "name": "stdout",
     "output_type": "stream",
     "text": [
      "0.2255406216605097\n"
     ]
    }
   ],
   "source": [
    "rs = r2_score(y_test, preds)\n",
    "print(rs)"
   ]
  },
  {
   "cell_type": "markdown",
   "metadata": {},
   "source": [
    "22.5% variation in the data is explained by its features. "
   ]
  },
  {
   "cell_type": "markdown",
   "metadata": {},
   "source": [
    "# Classification\n",
    "## Linear Discriminant Analysis"
   ]
  },
  {
   "cell_type": "markdown",
   "metadata": {},
   "source": [
    "As for the classification we need data with some binary values due to which I had to add two extra features: \n",
    "#### reshape_the_column_D: if to_what_extent_are_the_two_sentences_expressing_a_related_meaning > 3 =1 , otherwise = 0\n",
    "#### reshape_the_column_E' : if to_what_extent__are_the_two_sentences_expressing_a_related_meaning_variance > 0.5 =1, otherwise = 0\n"
   ]
  },
  {
   "cell_type": "code",
   "execution_count": null,
   "metadata": {},
   "outputs": [],
   "source": [
    "rasan_train= rasan[0:389]\n",
    "\n",
    "X_train1 = rasan_train[['Dummy variable for \"Sentence B is true\"', 'Dummy variable for \"Sentence B is false\"','Number of words in sentence A', 'Number of words in Sentence B','reshape_the_column_D']]\n",
    "\n",
    "y_train1 = rasan_train['reshape_the_column_E']\n",
    "\n",
    "lda = LinearDiscriminantAnalysis()\n",
    "lda.fit(X_train1, y_train1)"
   ]
  },
  {
   "cell_type": "markdown",
   "metadata": {},
   "source": [
    "## For the test data"
   ]
  },
  {
   "cell_type": "code",
   "execution_count": 52,
   "metadata": {},
   "outputs": [
    {
     "name": "stdout",
     "output_type": "stream",
     "text": [
      "Confusion matrix:\n",
      "\n",
      "[0 1]\n",
      "[[33 39]\n",
      " [ 4 88]]\n",
      "\n",
      "The accuracy is:  0.7378048780487805\n"
     ]
    }
   ],
   "source": [
    "rasan_test = rasan[390:554]\n",
    "\n",
    "X_test1 = rasan_test[['Dummy variable for \"Sentence B is true\"', 'Dummy variable for \"Sentence B is false\"','Number of words in sentence A', 'Number of words in Sentence B','reshape_the_column_D']]\n",
    "\n",
    "y_test1 = rasan_test['reshape_the_column_E']\n",
    "\n",
    "\n",
    "preds = lda.predict(X_test1)\n",
    "\n",
    "conf = confusion_matrix(y_test1, preds, labels=lda.classes_)\n",
    "print('Confusion matrix:\\n')\n",
    "print(lda.classes_)\n",
    "print(conf)\n",
    "acc = accuracy_score(y_test1, preds)\n",
    "print('\\nThe accuracy is: ', acc)"
   ]
  },
  {
   "cell_type": "markdown",
   "metadata": {},
   "source": [
    "# KNN"
   ]
  },
  {
   "cell_type": "markdown",
   "metadata": {},
   "source": [
    "## training"
   ]
  },
  {
   "cell_type": "code",
   "execution_count": 58,
   "metadata": {},
   "outputs": [
    {
     "data": {
      "text/plain": [
       "KNeighborsClassifier(algorithm='auto', leaf_size=30, metric='minkowski',\n",
       "           metric_params=None, n_jobs=1, n_neighbors=5, p=2,\n",
       "           weights='uniform')"
      ]
     },
     "execution_count": 58,
     "metadata": {},
     "output_type": "execute_result"
    }
   ],
   "source": [
    "knn = KNeighborsClassifier(5)\n",
    "knn.fit(X_train1, y_train1)"
   ]
  },
  {
   "cell_type": "markdown",
   "metadata": {},
   "source": [
    "## Testing and evaluation"
   ]
  },
  {
   "cell_type": "code",
   "execution_count": 62,
   "metadata": {},
   "outputs": [
    {
     "name": "stdout",
     "output_type": "stream",
     "text": [
      "Confusion matrix:\n",
      "\n",
      "[0 1]\n",
      "[[41 31]\n",
      " [24 68]]\n",
      "\n",
      "The accuracy is:  0.6646341463414634\n"
     ]
    }
   ],
   "source": [
    "knn_preds = knn.predict(X_test1)\n",
    "\n",
    "conf = confusion_matrix(y_test1, knn_preds, labels=knn.classes_)\n",
    "print('Confusion matrix:\\n')\n",
    "print(knn.classes_)\n",
    "print(conf)\n",
    "acc = accuracy_score(y_test1, knn_preds)\n",
    "print('\\nThe accuracy is: ', acc)"
   ]
  },
  {
   "cell_type": "markdown",
   "metadata": {},
   "source": [
    "# Logistic Regression\n",
    "## For the training data"
   ]
  },
  {
   "cell_type": "code",
   "execution_count": 19,
   "metadata": {},
   "outputs": [
    {
     "data": {
      "text/plain": [
       "LogisticRegression(C=1.0, class_weight=None, dual=False, fit_intercept=True,\n",
       "          intercept_scaling=1, max_iter=100, multi_class='ovr', n_jobs=1,\n",
       "          penalty='l2', random_state=None, solver='liblinear', tol=0.0001,\n",
       "          verbose=0, warm_start=False)"
      ]
     },
     "execution_count": 19,
     "metadata": {},
     "output_type": "execute_result"
    }
   ],
   "source": [
    "logreg = LogisticRegression()\n",
    "logreg.fit(X_train1, y_train1)"
   ]
  },
  {
   "cell_type": "code",
   "execution_count": 20,
   "metadata": {},
   "outputs": [
    {
     "name": "stdout",
     "output_type": "stream",
     "text": [
      "['Dummy variable for \"Sentence B is true\"'\n",
      " 'Dummy variable for \"Sentence B is false\"' 'reshape_the_column_D']\n",
      "[[-2.16151379  1.14084181  0.14962807]]\n"
     ]
    }
   ],
   "source": [
    "print(X_train1.columns.values)\n",
    "print(logreg.coef_)"
   ]
  },
  {
   "cell_type": "markdown",
   "metadata": {},
   "source": [
    "## Testing data"
   ]
  },
  {
   "cell_type": "code",
   "execution_count": 21,
   "metadata": {},
   "outputs": [
    {
     "name": "stdout",
     "output_type": "stream",
     "text": [
      "[0 1]\n",
      "[[33 39]\n",
      " [ 4 88]]\n",
      "('accuracy is: ', 0.73780487804878048)\n"
     ]
    }
   ],
   "source": [
    "preds = logreg.predict(X_test1)\n",
    "conf = confusion_matrix(y_test1, preds)\n",
    "print(logreg.classes_)\n",
    "print(conf)\n",
    "\n",
    "acc = accuracy_score(y_test1, preds)\n",
    "print('accuracy is: ', acc)"
   ]
  },
  {
   "cell_type": "markdown",
   "metadata": {},
   "source": [
    "## Getting Probabilistic Predictions"
   ]
  },
  {
   "cell_type": "code",
   "execution_count": 41,
   "metadata": {},
   "outputs": [
    {
     "name": "stdout",
     "output_type": "stream",
     "text": [
      "[0 1]\n",
      "[[33 39]\n",
      " [ 4 88]]\n",
      "('accuracy is: ', 0.73780487804878048)\n"
     ]
    }
   ],
   "source": [
    "preds = logreg.predict_proba(X_test1)\n",
    "classes = logreg.classes_\n",
    "\n",
    "threshold = 0.52\n",
    "\n",
    "newpreds = []\n",
    "for p in preds:\n",
    "    if p[0] > threshold:\n",
    "        newpreds.append(classes[0])\n",
    "    else:\n",
    "        newpreds.append(classes[1])\n",
    "\n",
    "print(logreg.classes_)        \n",
    "conf = confusion_matrix(y_test1, newpreds)\n",
    "print(conf)\n",
    "\n",
    "acc = accuracy_score(y_test1, newpreds)\n",
    "print('accuracy is: ', acc)\n"
   ]
  },
  {
   "cell_type": "code",
   "execution_count": 42,
   "metadata": {},
   "outputs": [
    {
     "data": {
      "text/plain": [
       "(0.69291338582677164, 0.95652173913043481, 0.80365296803652975, None)"
      ]
     },
     "execution_count": 42,
     "metadata": {},
     "output_type": "execute_result"
    }
   ],
   "source": [
    "precision_recall_fscore_support(y_test1, newpreds, average='binary')"
   ]
  },
  {
   "cell_type": "markdown",
   "metadata": {},
   "source": [
    "precision = 0.69291338582677164\n",
    "Recall = 0.9565217391304348\n",
    "Fscore = 0.80365296803652975"
   ]
  },
  {
   "cell_type": "code",
   "execution_count": 48,
   "metadata": {},
   "outputs": [
    {
     "name": "stdout",
     "output_type": "stream",
     "text": [
      "0.712484903382\n"
     ]
    }
   ],
   "source": [
    "p_pred = [p[0] for p in preds] # probability of the positive class\n",
    "pos_class = logreg.classes_[0]\n",
    "\n",
    "# convert class labels to True or False\n",
    "newlabs = (y_test1 == pos_class)\n",
    "\n",
    "\n",
    "auc = roc_auc_score(newlabs, p_pred)\n",
    "print(auc)"
   ]
  },
  {
   "cell_type": "markdown",
   "metadata": {},
   "source": [
    "# Feature Selection"
   ]
  },
  {
   "cell_type": "code",
   "execution_count": 53,
   "metadata": {},
   "outputs": [
    {
     "name": "stdout",
     "output_type": "stream",
     "text": [
      "These are the feas that were selected:\n",
      "\n",
      "['Dummy variable for \"Sentence B is true\"'\n",
      " 'Dummy variable for \"Sentence B is false\"']\n"
     ]
    }
   ],
   "source": [
    "# features and outcome variable\n",
    "\n",
    "X1 = rasan.drop(['to_what_extent__are_the_two_sentences_expressing_a_related_meaning_variance'], axis=1)\n",
    "\n",
    "# encode categorical variables as numeric variables using the get_dummies() function\n",
    "X1 = pd.get_dummies(X)\n",
    "y1 = rasan['to_what_extent__are_the_two_sentences_expressing_a_related_meaning_variance']\n",
    "\n",
    "train_size = 389\n",
    "X_full_train = X[0:train_size]\n",
    "X_full_test = X[train_size:]\n",
    "\n",
    "y_train2 = y[0:train_size]\n",
    "y_test2 = y[train_size:] \n",
    "\n",
    "perc = 50 # percentage of features to keep \n",
    "\n",
    "selector = SelectPercentile(f_regression, percentile=perc)\n",
    "selector.fit_transform(X_full_train, y_train2)\n",
    "selected_cols = selector.get_support()\n",
    "selected_feas = X_full_train.columns.values[selected_cols]\n",
    "print(\"These are the feas that were selected:\\n\")\n",
    "print(selected_feas)\n",
    "\n",
    "X_sub_train = X_full_train[selected_feas]\n",
    "\n",
    "X_sub_test = X_full_test[selected_feas] \n"
   ]
  },
  {
   "cell_type": "code",
   "execution_count": 55,
   "metadata": {},
   "outputs": [
    {
     "name": "stdout",
     "output_type": "stream",
     "text": [
      "The MSE using just the selected features is 0.1587313442921222\n"
     ]
    },
    {
     "data": {
      "image/png": "[encoded data removed]",
      "text/plain": [
       "<matplotlib.figure.Figure at 0x1c1f0026d8>"
      ]
     },
     "metadata": {},
     "output_type": "display_data"
    }
   ],
   "source": [
    "lm_sub = LinearRegression()\n",
    "lm_sub.fit(X_sub_train, y_train2)\n",
    "\n",
    "preds_sub = lm_sub.predict(X_sub_test)\n",
    "mse_sub = mean_squared_error(y_test2, preds_sub)\n",
    "print(\"The MSE using just the selected features is %s\" % mse_sub)\n",
    "\n",
    "plt.figure()\n",
    "plt.scatter(y_test2, preds_sub)\n",
    "plt.show()"
   ]
  },
  {
   "cell_type": "code",
   "execution_count": 56,
   "metadata": {},
   "outputs": [
    {
     "name": "stdout",
     "output_type": "stream",
     "text": [
      "0.21473060385944043\n"
     ]
    }
   ],
   "source": [
    "rs = r2_score(y_test2, preds_sub)\n",
    "print(rs)"
   ]
  },
  {
   "cell_type": "markdown",
   "metadata": {},
   "source": [
    "21% of the model is explained by its features"
   ]
  },
  {
   "cell_type": "markdown",
   "metadata": {},
   "source": [
    "# Cross Validation"
   ]
  },
  {
   "cell_type": "code",
   "execution_count": 50,
   "metadata": {},
   "outputs": [
    {
     "name": "stdout",
     "output_type": "stream",
     "text": [
      "The MSE using cross validation on the entire dataset is 0.1742252795523606\n"
     ]
    },
    {
     "data": {
      "image/png": "[encoded data removed]",
      "text/plain": [
       "<matplotlib.figure.Figure at 0x1c1f002cc0>"
      ]
     },
     "metadata": {},
     "output_type": "display_data"
    }
   ],
   "source": [
    "kf = KFold(n_splits=10)\n",
    "\n",
    "preds_cv = []\n",
    "\n",
    "for train, test in kf.split(X1):\n",
    "    X_cv = X.iloc[train]\n",
    "    y_cv = y.iloc[train]\n",
    "    \n",
    "    X_cv_test = X.iloc[test]\n",
    "    \n",
    "    lm_cv = LinearRegression()\n",
    "    lm_cv.fit(X_cv, y_cv)\n",
    "    preds = lm_cv.predict(X_cv_test)\n",
    "    preds_cv += list(preds)\n",
    "\n",
    "mse_cv = mean_squared_error(y, preds_cv)\n",
    "print(\"The MSE using cross validation on the entire dataset is %s\" % mse_cv)\n",
    "\n",
    "plt.figure()\n",
    "plt.scatter(y, preds_cv)\n",
    "plt.show()\n",
    "\n"
   ]
  },
  {
   "cell_type": "code",
   "execution_count": 51,
   "metadata": {},
   "outputs": [
    {
     "name": "stdout",
     "output_type": "stream",
     "text": [
      "0.2328109873056664\n"
     ]
    }
   ],
   "source": [
    "rs = r2_score(y, preds_cv)\n",
    "print(rs)"
   ]
  },
  {
   "cell_type": "markdown",
   "metadata": {},
   "source": [
    "23 % of the model is explained by its features"
   ]
  },
  {
   "cell_type": "markdown",
   "metadata": {},
   "source": [
    " # The Lasso\n",
    " "
   ]
  },
  {
   "cell_type": "code",
   "execution_count": 36,
   "metadata": {},
   "outputs": [
    {
     "name": "stdout",
     "output_type": "stream",
     "text": [
      "The MSE using cross validation and the Lasso on the entire dataset is 0.230009917968\n"
     ]
    },
    {
     "data": {
      "image/png": "[encoded data removed]",
      "text/plain": [
       "<matplotlib.figure.Figure at 0x7fe5bc80fc90>"
      ]
     },
     "metadata": {},
     "output_type": "display_data"
    }
   ],
   "source": [
    "kf = KFold(n_splits=10)\n",
    "\n",
    "preds_cv = []\n",
    "\n",
    "for train, test in kf.split(X1):\n",
    "    X_cv = X.iloc[train]\n",
    "    y_cv = y.iloc[train]\n",
    "    \n",
    "    X_cv_test = X.iloc[test]\n",
    "    \n",
    "    lm_cv = Lasso(max_iter=5000, tol=0.001)\n",
    "    lm_cv.fit(X_cv, y_cv)\n",
    "    preds = lm_cv.predict(X_cv_test)\n",
    "    preds_cv += list(preds)\n",
    "\n",
    "mse_cv = mean_squared_error(y, preds_cv)\n",
    "print(\"The MSE using cross validation and the Lasso on the entire dataset is %s\" % mse_cv)\n",
    "\n",
    "plt.figure()\n",
    "plt.scatter(y, preds_cv)\n",
    "plt.show()\n"
   ]
  },
  {
   "cell_type": "code",
   "execution_count": 45,
   "metadata": {},
   "outputs": [
    {
     "name": "stdout",
     "output_type": "stream",
     "text": [
      "-0.0128328238528\n"
     ]
    }
   ],
   "source": [
    "rs = r2_score(y, preds_cv)\n",
    "print(rs)"
   ]
  },
  {
   "cell_type": "markdown",
   "metadata": {},
   "source": [
    "1.2% of the data is explained by its features. "
   ]
  }
 ],
 "metadata": {
  "kernelspec": {
   "display_name": "Python 3 (ipykernel)",
   "language": "python",
   "name": "python3"
  },
  "language_info": {
   "codemirror_mode": {
    "name": "ipython",
    "version": 3
   },
   "file_extension": ".py",
   "mimetype": "text/x-python",
   "name": "python",
   "nbconvert_exporter": "python",
   "pygments_lexer": "ipython3",
   "version": "3.9.13"
  }
 },
 "nbformat": 4,
 "nbformat_minor": 2
}
